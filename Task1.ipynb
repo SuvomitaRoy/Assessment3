{
 "cells": [
  {
   "cell_type": "code",
   "execution_count": null,
   "id": "e51a2625",
   "metadata": {},
   "outputs": [],
   "source": [
    "import numpy as np\n",
    "import matplotlib.pyplot as plt\n",
    "import pandas as pd\n",
    "import seaborn as sns\n",
    "from sklearn.model_selection import train_test_split\n",
    "from sklearn.ensemble import RandomForestClassifier\n",
    "from sklearn.preprocessing import OneHotEncoder\n",
    "from sklearn.preprocessing import StandardScaler"
   ]
  },
  {
   "cell_type": "code",
   "execution_count": 2,
   "id": "41e2f3e2",
   "metadata": {},
   "outputs": [
    {
     "data": {
      "text/html": [
       "<div>\n",
       "<style scoped>\n",
       "    .dataframe tbody tr th:only-of-type {\n",
       "        vertical-align: middle;\n",
       "    }\n",
       "\n",
       "    .dataframe tbody tr th {\n",
       "        vertical-align: top;\n",
       "    }\n",
       "\n",
       "    .dataframe thead th {\n",
       "        text-align: right;\n",
       "    }\n",
       "</style>\n",
       "<table border=\"1\" class=\"dataframe\">\n",
       "  <thead>\n",
       "    <tr style=\"text-align: right;\">\n",
       "      <th></th>\n",
       "      <th>PassengerId</th>\n",
       "      <th>Survived</th>\n",
       "      <th>Pclass</th>\n",
       "      <th>Name</th>\n",
       "      <th>Sex</th>\n",
       "      <th>Age</th>\n",
       "      <th>SibSp</th>\n",
       "      <th>Parch</th>\n",
       "      <th>Ticket</th>\n",
       "      <th>Fare</th>\n",
       "      <th>Cabin</th>\n",
       "      <th>Embarked</th>\n",
       "    </tr>\n",
       "  </thead>\n",
       "  <tbody>\n",
       "    <tr>\n",
       "      <th>0</th>\n",
       "      <td>1</td>\n",
       "      <td>0</td>\n",
       "      <td>3</td>\n",
       "      <td>Braund, Mr. Owen Harris</td>\n",
       "      <td>male</td>\n",
       "      <td>22.0</td>\n",
       "      <td>1</td>\n",
       "      <td>0</td>\n",
       "      <td>A/5 21171</td>\n",
       "      <td>7.2500</td>\n",
       "      <td>NaN</td>\n",
       "      <td>S</td>\n",
       "    </tr>\n",
       "    <tr>\n",
       "      <th>1</th>\n",
       "      <td>2</td>\n",
       "      <td>1</td>\n",
       "      <td>1</td>\n",
       "      <td>Cumings, Mrs. John Bradley (Florence Briggs Th...</td>\n",
       "      <td>female</td>\n",
       "      <td>38.0</td>\n",
       "      <td>1</td>\n",
       "      <td>0</td>\n",
       "      <td>PC 17599</td>\n",
       "      <td>71.2833</td>\n",
       "      <td>C85</td>\n",
       "      <td>C</td>\n",
       "    </tr>\n",
       "    <tr>\n",
       "      <th>2</th>\n",
       "      <td>3</td>\n",
       "      <td>1</td>\n",
       "      <td>3</td>\n",
       "      <td>Heikkinen, Miss. Laina</td>\n",
       "      <td>female</td>\n",
       "      <td>26.0</td>\n",
       "      <td>0</td>\n",
       "      <td>0</td>\n",
       "      <td>STON/O2. 3101282</td>\n",
       "      <td>7.9250</td>\n",
       "      <td>NaN</td>\n",
       "      <td>S</td>\n",
       "    </tr>\n",
       "    <tr>\n",
       "      <th>3</th>\n",
       "      <td>4</td>\n",
       "      <td>1</td>\n",
       "      <td>1</td>\n",
       "      <td>Futrelle, Mrs. Jacques Heath (Lily May Peel)</td>\n",
       "      <td>female</td>\n",
       "      <td>35.0</td>\n",
       "      <td>1</td>\n",
       "      <td>0</td>\n",
       "      <td>113803</td>\n",
       "      <td>53.1000</td>\n",
       "      <td>C123</td>\n",
       "      <td>S</td>\n",
       "    </tr>\n",
       "    <tr>\n",
       "      <th>4</th>\n",
       "      <td>5</td>\n",
       "      <td>0</td>\n",
       "      <td>3</td>\n",
       "      <td>Allen, Mr. William Henry</td>\n",
       "      <td>male</td>\n",
       "      <td>35.0</td>\n",
       "      <td>0</td>\n",
       "      <td>0</td>\n",
       "      <td>373450</td>\n",
       "      <td>8.0500</td>\n",
       "      <td>NaN</td>\n",
       "      <td>S</td>\n",
       "    </tr>\n",
       "  </tbody>\n",
       "</table>\n",
       "</div>"
      ],
      "text/plain": [
       "   PassengerId  Survived  Pclass  \\\n",
       "0            1         0       3   \n",
       "1            2         1       1   \n",
       "2            3         1       3   \n",
       "3            4         1       1   \n",
       "4            5         0       3   \n",
       "\n",
       "                                                Name     Sex   Age  SibSp  \\\n",
       "0                            Braund, Mr. Owen Harris    male  22.0      1   \n",
       "1  Cumings, Mrs. John Bradley (Florence Briggs Th...  female  38.0      1   \n",
       "2                             Heikkinen, Miss. Laina  female  26.0      0   \n",
       "3       Futrelle, Mrs. Jacques Heath (Lily May Peel)  female  35.0      1   \n",
       "4                           Allen, Mr. William Henry    male  35.0      0   \n",
       "\n",
       "   Parch            Ticket     Fare Cabin Embarked  \n",
       "0      0         A/5 21171   7.2500   NaN        S  \n",
       "1      0          PC 17599  71.2833   C85        C  \n",
       "2      0  STON/O2. 3101282   7.9250   NaN        S  \n",
       "3      0            113803  53.1000  C123        S  \n",
       "4      0            373450   8.0500   NaN        S  "
      ]
     },
     "execution_count": 2,
     "metadata": {},
     "output_type": "execute_result"
    }
   ],
   "source": [
    "data = pd.read_csv(\"train.csv\")\n",
    "df = pd.DataFrame(data)\n",
    "df.head()"
   ]
  },
  {
   "cell_type": "code",
   "execution_count": 3,
   "id": "5e18e6ee",
   "metadata": {},
   "outputs": [
    {
     "data": {
      "text/plain": [
       "Survived      0\n",
       "Pclass        0\n",
       "Sex           0\n",
       "Age         177\n",
       "dtype: int64"
      ]
     },
     "execution_count": 3,
     "metadata": {},
     "output_type": "execute_result"
    }
   ],
   "source": [
    "df.drop(['PassengerId','Name','SibSp','Parch','Ticket','Cabin','Embarked','Fare'],axis='columns',inplace=True)\n",
    "df.isna().sum()"
   ]
  },
  {
   "cell_type": "markdown",
   "id": "515449cf",
   "metadata": {},
   "source": [
    "Remarks: We drop the following columns either because the information is redundant or completely independent to the survival rate."
   ]
  },
  {
   "cell_type": "markdown",
   "id": "65cdc164",
   "metadata": {},
   "source": [
    "<b>1. Preprocessing the data"
   ]
  },
  {
   "cell_type": "markdown",
   "id": "fafc2c2d",
   "metadata": {},
   "source": [
    "<i>1.1. Handling null values in the column Age"
   ]
  },
  {
   "cell_type": "code",
   "execution_count": 4,
   "id": "2bf738a2",
   "metadata": {},
   "outputs": [
    {
     "data": {
      "text/html": [
       "<div>\n",
       "<style scoped>\n",
       "    .dataframe tbody tr th:only-of-type {\n",
       "        vertical-align: middle;\n",
       "    }\n",
       "\n",
       "    .dataframe tbody tr th {\n",
       "        vertical-align: top;\n",
       "    }\n",
       "\n",
       "    .dataframe thead th {\n",
       "        text-align: right;\n",
       "    }\n",
       "</style>\n",
       "<table border=\"1\" class=\"dataframe\">\n",
       "  <thead>\n",
       "    <tr style=\"text-align: right;\">\n",
       "      <th></th>\n",
       "      <th>Survived</th>\n",
       "      <th>Pclass</th>\n",
       "      <th>Sex</th>\n",
       "      <th>Age</th>\n",
       "    </tr>\n",
       "  </thead>\n",
       "  <tbody>\n",
       "    <tr>\n",
       "      <th>0</th>\n",
       "      <td>0</td>\n",
       "      <td>3</td>\n",
       "      <td>male</td>\n",
       "      <td>22.0</td>\n",
       "    </tr>\n",
       "    <tr>\n",
       "      <th>1</th>\n",
       "      <td>1</td>\n",
       "      <td>1</td>\n",
       "      <td>female</td>\n",
       "      <td>38.0</td>\n",
       "    </tr>\n",
       "    <tr>\n",
       "      <th>2</th>\n",
       "      <td>1</td>\n",
       "      <td>3</td>\n",
       "      <td>female</td>\n",
       "      <td>26.0</td>\n",
       "    </tr>\n",
       "    <tr>\n",
       "      <th>3</th>\n",
       "      <td>1</td>\n",
       "      <td>1</td>\n",
       "      <td>female</td>\n",
       "      <td>35.0</td>\n",
       "    </tr>\n",
       "    <tr>\n",
       "      <th>4</th>\n",
       "      <td>0</td>\n",
       "      <td>3</td>\n",
       "      <td>male</td>\n",
       "      <td>35.0</td>\n",
       "    </tr>\n",
       "  </tbody>\n",
       "</table>\n",
       "</div>"
      ],
      "text/plain": [
       "   Survived  Pclass     Sex   Age\n",
       "0         0       3    male  22.0\n",
       "1         1       1  female  38.0\n",
       "2         1       3  female  26.0\n",
       "3         1       1  female  35.0\n",
       "4         0       3    male  35.0"
      ]
     },
     "execution_count": 4,
     "metadata": {},
     "output_type": "execute_result"
    }
   ],
   "source": [
    "df['Age'] = df['Age'].fillna(df['Age'].median())\n",
    "df.head()"
   ]
  },
  {
   "cell_type": "markdown",
   "id": "9f3ccfd5",
   "metadata": {},
   "source": [
    "<i>1.2. Encoding the sex"
   ]
  },
  {
   "cell_type": "code",
   "execution_count": null,
   "id": "9e031b13",
   "metadata": {},
   "outputs": [
    {
     "data": {
      "text/html": [
       "<div>\n",
       "<style scoped>\n",
       "    .dataframe tbody tr th:only-of-type {\n",
       "        vertical-align: middle;\n",
       "    }\n",
       "\n",
       "    .dataframe tbody tr th {\n",
       "        vertical-align: top;\n",
       "    }\n",
       "\n",
       "    .dataframe thead th {\n",
       "        text-align: right;\n",
       "    }\n",
       "</style>\n",
       "<table border=\"1\" class=\"dataframe\">\n",
       "  <thead>\n",
       "    <tr style=\"text-align: right;\">\n",
       "      <th></th>\n",
       "      <th>Survived</th>\n",
       "      <th>Pclass</th>\n",
       "      <th>Age</th>\n",
       "      <th>Female</th>\n",
       "      <th>Male</th>\n",
       "    </tr>\n",
       "  </thead>\n",
       "  <tbody>\n",
       "    <tr>\n",
       "      <th>0</th>\n",
       "      <td>0</td>\n",
       "      <td>3</td>\n",
       "      <td>22.0</td>\n",
       "      <td>0.0</td>\n",
       "      <td>1.0</td>\n",
       "    </tr>\n",
       "    <tr>\n",
       "      <th>1</th>\n",
       "      <td>1</td>\n",
       "      <td>1</td>\n",
       "      <td>38.0</td>\n",
       "      <td>1.0</td>\n",
       "      <td>0.0</td>\n",
       "    </tr>\n",
       "    <tr>\n",
       "      <th>2</th>\n",
       "      <td>1</td>\n",
       "      <td>3</td>\n",
       "      <td>26.0</td>\n",
       "      <td>1.0</td>\n",
       "      <td>0.0</td>\n",
       "    </tr>\n",
       "    <tr>\n",
       "      <th>3</th>\n",
       "      <td>1</td>\n",
       "      <td>1</td>\n",
       "      <td>35.0</td>\n",
       "      <td>1.0</td>\n",
       "      <td>0.0</td>\n",
       "    </tr>\n",
       "    <tr>\n",
       "      <th>4</th>\n",
       "      <td>0</td>\n",
       "      <td>3</td>\n",
       "      <td>35.0</td>\n",
       "      <td>0.0</td>\n",
       "      <td>1.0</td>\n",
       "    </tr>\n",
       "  </tbody>\n",
       "</table>\n",
       "</div>"
      ],
      "text/plain": [
       "   Survived  Pclass   Age  Female  Male\n",
       "0         0       3  22.0     0.0   1.0\n",
       "1         1       1  38.0     1.0   0.0\n",
       "2         1       3  26.0     1.0   0.0\n",
       "3         1       1  35.0     1.0   0.0\n",
       "4         0       3  35.0     0.0   1.0"
      ]
     },
     "execution_count": 5,
     "metadata": {},
     "output_type": "execute_result"
    }
   ],
   "source": [
    "enc = OneHotEncoder(sparse_output=False)\n",
    "sex_enc = enc.fit_transform(np.array(df[\"Sex\"]).reshape(-1,1))\n",
    "one_hot_df = pd.DataFrame(sex_enc,columns=['Female','Male'])\n",
    "df_new = pd.concat([df, one_hot_df], axis=1)\n",
    "df_new = df_new.drop(\"Sex\", axis=1)\n",
    "df_new.head()"
   ]
  },
  {
   "cell_type": "markdown",
   "id": "acb99208",
   "metadata": {},
   "source": [
    "<i>1.3. Normalising the data"
   ]
  },
  {
   "cell_type": "code",
   "execution_count": 6,
   "id": "08bed225",
   "metadata": {},
   "outputs": [
    {
     "data": {
      "text/plain": [
       "array([[-0.78927234,  0.82737724, -0.56573646, -0.73769513,  0.73769513],\n",
       "       [ 1.2669898 , -1.56610693,  0.66386103,  1.35557354, -1.35557354],\n",
       "       [ 1.2669898 ,  0.82737724, -0.25833709,  1.35557354, -1.35557354],\n",
       "       ...,\n",
       "       [-0.78927234,  0.82737724, -0.1046374 ,  1.35557354, -1.35557354],\n",
       "       [ 1.2669898 , -1.56610693, -0.25833709, -0.73769513,  0.73769513],\n",
       "       [-0.78927234,  0.82737724,  0.20276197, -0.73769513,  0.73769513]])"
      ]
     },
     "execution_count": 6,
     "metadata": {},
     "output_type": "execute_result"
    }
   ],
   "source": [
    "scaler = StandardScaler()\n",
    "scaler.fit_transform(df_new)"
   ]
  },
  {
   "cell_type": "markdown",
   "id": "94a78018",
   "metadata": {},
   "source": [
    "<b>2. Summary statistics"
   ]
  },
  {
   "cell_type": "code",
   "execution_count": 7,
   "id": "6e1fb62f",
   "metadata": {},
   "outputs": [
    {
     "name": "stdout",
     "output_type": "stream",
     "text": [
      "Percentage of survivors: 0.38\n",
      "Average age of passengers: 29.36\n",
      "Number of female passengers: 314.0\n",
      "Number of male passengers: 577.0\n"
     ]
    }
   ],
   "source": [
    "print(f\"Percentage of survivors: {df_new['Survived'].sum()/len(df_new['Survived']):.2f}\")\n",
    "print(f\"Average age of passengers: {df_new['Age'].sum()/len(df_new['Age']):.2f}\")\n",
    "print(\"Number of female passengers:\",df_new['Female'].sum())\n",
    "print(\"Number of male passengers:\",df_new['Male'].sum())"
   ]
  },
  {
   "cell_type": "markdown",
   "id": "e5d5f4b0",
   "metadata": {},
   "source": [
    "<i>2.1. Feature importance"
   ]
  },
  {
   "cell_type": "code",
   "execution_count": 8,
   "id": "2164276c",
   "metadata": {},
   "outputs": [
    {
     "data": {
      "image/png": "[encoded data removed]",
      "text/plain": [
       "<Figure size 640x480 with 1 Axes>"
      ]
     },
     "metadata": {},
     "output_type": "display_data"
    }
   ],
   "source": [
    "X = df_new.drop(\"Survived\",axis=1,inplace=False)\n",
    "y = df_new[\"Survived\"]\n",
    "X_train, X_test, y_train, y_test = train_test_split(X, y, stratify=y, random_state=42)\n",
    "feature_names = [f\"feature {i}\" for i in range(X.shape[1])]\n",
    "forest = RandomForestClassifier(random_state=0)\n",
    "forest.fit(X_train, y_train)\n",
    "importances = forest.feature_importances_\n",
    "std = np.std([tree.feature_importances_ for tree in forest.estimators_], axis=0)\n",
    "forest_importances = pd.Series(importances, index=df_new.columns[1:])\n",
    "fig, ax = plt.subplots()\n",
    "forest_importances.plot.bar(yerr=std, ax=ax)\n",
    "ax.set_title(\"Feature importances using MDI\")\n",
    "ax.set_ylabel(\"Mean decrease in impurity\")\n",
    "fig.tight_layout()"
   ]
  },
  {
   "cell_type": "markdown",
   "id": "610566ff",
   "metadata": {},
   "source": [
    "Observation: Age and sex have higher impact on the survival rate than the passenger class"
   ]
  },
  {
   "cell_type": "markdown",
   "id": "39688edf",
   "metadata": {},
   "source": [
    "<i>2.2. Correlation matrix"
   ]
  },
  {
   "cell_type": "code",
   "execution_count": 9,
   "id": "c208c86f",
   "metadata": {},
   "outputs": [
    {
     "data": {
      "text/html": [
       "<style type=\"text/css\">\n",
       "#T_083e8_row0_col0, #T_083e8_row1_col1, #T_083e8_row2_col2, #T_083e8_row3_col3, #T_083e8_row4_col4 {\n",
       "  background-color: #b40426;\n",
       "  color: #f1f1f1;\n",
       "}\n",
       "#T_083e8_row0_col1, #T_083e8_row1_col2, #T_083e8_row2_col1, #T_083e8_row3_col4, #T_083e8_row4_col0, #T_083e8_row4_col3 {\n",
       "  background-color: #3b4cc0;\n",
       "  color: #f1f1f1;\n",
       "}\n",
       "#T_083e8_row0_col2 {\n",
       "  background-color: #7da0f9;\n",
       "  color: #f1f1f1;\n",
       "}\n",
       "#T_083e8_row0_col3 {\n",
       "  background-color: #f29072;\n",
       "  color: #f1f1f1;\n",
       "}\n",
       "#T_083e8_row0_col4 {\n",
       "  background-color: #85a8fc;\n",
       "  color: #f1f1f1;\n",
       "}\n",
       "#T_083e8_row1_col0 {\n",
       "  background-color: #6384eb;\n",
       "  color: #f1f1f1;\n",
       "}\n",
       "#T_083e8_row1_col3 {\n",
       "  background-color: #cbd8ee;\n",
       "  color: #000000;\n",
       "}\n",
       "#T_083e8_row1_col4 {\n",
       "  background-color: #ecd3c5;\n",
       "  color: #000000;\n",
       "}\n",
       "#T_083e8_row2_col0 {\n",
       "  background-color: #a2c1ff;\n",
       "  color: #000000;\n",
       "}\n",
       "#T_083e8_row2_col3 {\n",
       "  background-color: #d2dbe8;\n",
       "  color: #000000;\n",
       "}\n",
       "#T_083e8_row2_col4 {\n",
       "  background-color: #e7d7ce;\n",
       "  color: #000000;\n",
       "}\n",
       "#T_083e8_row3_col0 {\n",
       "  background-color: #f7aa8c;\n",
       "  color: #000000;\n",
       "}\n",
       "#T_083e8_row3_col1 {\n",
       "  background-color: #6b8df0;\n",
       "  color: #f1f1f1;\n",
       "}\n",
       "#T_083e8_row3_col2 {\n",
       "  background-color: #799cf8;\n",
       "  color: #f1f1f1;\n",
       "}\n",
       "#T_083e8_row4_col1 {\n",
       "  background-color: #b1cbfc;\n",
       "  color: #000000;\n",
       "}\n",
       "#T_083e8_row4_col2 {\n",
       "  background-color: #a3c2fe;\n",
       "  color: #000000;\n",
       "}\n",
       "</style>\n",
       "<table id=\"T_083e8\">\n",
       "  <thead>\n",
       "    <tr>\n",
       "      <th class=\"blank level0\" >&nbsp;</th>\n",
       "      <th id=\"T_083e8_level0_col0\" class=\"col_heading level0 col0\" >Survived</th>\n",
       "      <th id=\"T_083e8_level0_col1\" class=\"col_heading level0 col1\" >Pclass</th>\n",
       "      <th id=\"T_083e8_level0_col2\" class=\"col_heading level0 col2\" >Age</th>\n",
       "      <th id=\"T_083e8_level0_col3\" class=\"col_heading level0 col3\" >Female</th>\n",
       "      <th id=\"T_083e8_level0_col4\" class=\"col_heading level0 col4\" >Male</th>\n",
       "    </tr>\n",
       "  </thead>\n",
       "  <tbody>\n",
       "    <tr>\n",
       "      <th id=\"T_083e8_level0_row0\" class=\"row_heading level0 row0\" >Survived</th>\n",
       "      <td id=\"T_083e8_row0_col0\" class=\"data row0 col0\" >1.0000</td>\n",
       "      <td id=\"T_083e8_row0_col1\" class=\"data row0 col1\" >-0.3385</td>\n",
       "      <td id=\"T_083e8_row0_col2\" class=\"data row0 col2\" >-0.0649</td>\n",
       "      <td id=\"T_083e8_row0_col3\" class=\"data row0 col3\" >0.5434</td>\n",
       "      <td id=\"T_083e8_row0_col4\" class=\"data row0 col4\" >-0.5434</td>\n",
       "    </tr>\n",
       "    <tr>\n",
       "      <th id=\"T_083e8_level0_row1\" class=\"row_heading level0 row1\" >Pclass</th>\n",
       "      <td id=\"T_083e8_row1_col0\" class=\"data row1 col0\" >-0.3385</td>\n",
       "      <td id=\"T_083e8_row1_col1\" class=\"data row1 col1\" >1.0000</td>\n",
       "      <td id=\"T_083e8_row1_col2\" class=\"data row1 col2\" >-0.3399</td>\n",
       "      <td id=\"T_083e8_row1_col3\" class=\"data row1 col3\" >-0.1319</td>\n",
       "      <td id=\"T_083e8_row1_col4\" class=\"data row1 col4\" >0.1319</td>\n",
       "    </tr>\n",
       "    <tr>\n",
       "      <th id=\"T_083e8_level0_row2\" class=\"row_heading level0 row2\" >Age</th>\n",
       "      <td id=\"T_083e8_row2_col0\" class=\"data row2 col0\" >-0.0649</td>\n",
       "      <td id=\"T_083e8_row2_col1\" class=\"data row2 col1\" >-0.3399</td>\n",
       "      <td id=\"T_083e8_row2_col2\" class=\"data row2 col2\" >1.0000</td>\n",
       "      <td id=\"T_083e8_row2_col3\" class=\"data row2 col3\" >-0.0812</td>\n",
       "      <td id=\"T_083e8_row2_col4\" class=\"data row2 col4\" >0.0812</td>\n",
       "    </tr>\n",
       "    <tr>\n",
       "      <th id=\"T_083e8_level0_row3\" class=\"row_heading level0 row3\" >Female</th>\n",
       "      <td id=\"T_083e8_row3_col0\" class=\"data row3 col0\" >0.5434</td>\n",
       "      <td id=\"T_083e8_row3_col1\" class=\"data row3 col1\" >-0.1319</td>\n",
       "      <td id=\"T_083e8_row3_col2\" class=\"data row3 col2\" >-0.0812</td>\n",
       "      <td id=\"T_083e8_row3_col3\" class=\"data row3 col3\" >1.0000</td>\n",
       "      <td id=\"T_083e8_row3_col4\" class=\"data row3 col4\" >-1.0000</td>\n",
       "    </tr>\n",
       "    <tr>\n",
       "      <th id=\"T_083e8_level0_row4\" class=\"row_heading level0 row4\" >Male</th>\n",
       "      <td id=\"T_083e8_row4_col0\" class=\"data row4 col0\" >-0.5434</td>\n",
       "      <td id=\"T_083e8_row4_col1\" class=\"data row4 col1\" >0.1319</td>\n",
       "      <td id=\"T_083e8_row4_col2\" class=\"data row4 col2\" >0.0812</td>\n",
       "      <td id=\"T_083e8_row4_col3\" class=\"data row4 col3\" >-1.0000</td>\n",
       "      <td id=\"T_083e8_row4_col4\" class=\"data row4 col4\" >1.0000</td>\n",
       "    </tr>\n",
       "  </tbody>\n",
       "</table>\n"
      ],
      "text/plain": [
       "<pandas.io.formats.style.Styler at 0x272238f1290>"
      ]
     },
     "execution_count": 9,
     "metadata": {},
     "output_type": "execute_result"
    }
   ],
   "source": [
    "rs = np.random.RandomState(0)\n",
    "corr = df_new.corr()\n",
    "corr.style.background_gradient(cmap='coolwarm').format(precision=4)"
   ]
  },
  {
   "cell_type": "markdown",
   "id": "5347209e",
   "metadata": {},
   "source": [
    "Observations: Being a female imapcts the survival rate positively on the contrary to being a male. As expected, staying a lower class reduce the chances of survival."
   ]
  },
  {
   "cell_type": "markdown",
   "id": "9dcb7c98",
   "metadata": {},
   "source": [
    "<i>2.3. Visualisations"
   ]
  },
  {
   "cell_type": "code",
   "execution_count": 10,
   "id": "227ab941",
   "metadata": {},
   "outputs": [
    {
     "data": {
      "image/png": "[encoded data removed]",
      "text/plain": [
       "<Figure size 640x480 with 1 Axes>"
      ]
     },
     "metadata": {},
     "output_type": "display_data"
    }
   ],
   "source": [
    "plt.boxplot(df_new, orientation='horizontal',tick_labels=df_new.columns)\n",
    "plt.show()"
   ]
  },
  {
   "cell_type": "markdown",
   "id": "63062cb4",
   "metadata": {},
   "source": [
    "Observations: Being a female imapcts the survival rate positively on the contrary to being a male. As expected, staying a lower class reduce the chances of survival."
   ]
  },
  {
   "cell_type": "code",
   "execution_count": 13,
   "id": "b32a9820",
   "metadata": {},
   "outputs": [
    {
     "data": {
      "text/plain": [
       "<seaborn.axisgrid.PairGrid at 0x2723b5d3010>"
      ]
     },
     "execution_count": 13,
     "metadata": {},
     "output_type": "execute_result"
    },
    {
     "data": {
      "image/png": "[encoded data removed]",
      "text/plain": [
       "<Figure size 1072.11x1000 with 20 Axes>"
      ]
     },
     "metadata": {},
     "output_type": "display_data"
    }
   ],
   "source": [
    "sns.pairplot(df_new,hue=\"Survived\",kind='hist')"
   ]
  }
 ],
 "metadata": {
  "kernelspec": {
   "display_name": "base",
   "language": "python",
   "name": "python3"
  },
  "language_info": {
   "codemirror_mode": {
    "name": "ipython",
    "version": 3
   },
   "file_extension": ".py",
   "mimetype": "text/x-python",
   "name": "python",
   "nbconvert_exporter": "python",
   "pygments_lexer": "ipython3",
   "version": "3.11.8"
  }
 },
 "nbformat": 4,
 "nbformat_minor": 5
}
